{
 "cells": [
  {
   "cell_type": "markdown",
   "metadata": {},
   "source": [
    "<!--- Licensed to the Apache Software Foundation (ASF) under one -->\n",
    "<!--- or more contributor license agreements.  See the NOTICE file -->\n",
    "<!--- distributed with this work for additional information -->\n",
    "<!--- regarding copyright ownership.  The ASF licenses this file -->\n",
    "<!--- to you under the Apache License, Version 2.0 (the -->\n",
    "<!--- \"License\"); you may not use this file except in compliance -->\n",
    "<!--- with the License.  You may obtain a copy of the License at -->\n",
    "\n",
    "<!---   http://www.apache.org/licenses/LICENSE-2.0 -->\n",
    "\n",
    "<!--- Unless required by applicable law or agreed to in writing, -->\n",
    "<!--- software distributed under the License is distributed on an -->\n",
    "<!--- \"AS IS\" BASIS, WITHOUT WARRANTIES OR CONDITIONS OF ANY -->\n",
    "<!--- KIND, either express or implied.  See the License for the -->\n",
    "<!--- specific language governing permissions and limitations -->\n",
    "<!--- under the License. -->\n",
    "\n",
    "# Handwritten Digit Recognition\n",
    "\n",
    "In this tutorial, we'll give you a step by step walk-through of how to build a hand-written digit classifier using the [MNIST](https://en.wikipedia.org/wiki/MNIST_database) dataset. For someone new to deep learning, this exercise is arguably the \"Hello World\" equivalent.\n",
    "\n",
    "MNIST is a widely used dataset for the hand-written digit classification task. It consists of 70,000 labeled 28x28 pixel grayscale images of hand-written digits. The dataset is split into 60,000 training images and 10,000 test images. There are 10 classes (one for each of the 10 digits). The task at hand is to train a model using the 60,000 training images and subsequently test its classification accuracy on the 10,000 test images.\n",
    "\n",
    "![png](https://raw.githubusercontent.com/dmlc/web-data/master/mxnet/example/mnist.png)\n",
    "\n",
    "**Figure 1:** Sample images from the MNIST dataset.\n",
    "\n",
    "## Prerequisites\n",
    "To complete this tutorial, we need:  \n",
    "\n",
    "- MXNet version 0.10 or later. See the installation instructions for your operating system in [Setup and Installation](http://mxnet.io/install/index.html).\n",
    "\n",
    "- [Python Requests](http://docs.python-requests.org/en/master/) and [Jupyter Notebook](http://jupyter.org/index.html).\n",
    "\n",
    "```\n",
    "$ pip install requests jupyter\n",
    "```\n",
    "\n",
    "## Loading Data\n",
    "\n",
    "Before we define the model, let's first fetch the [MNIST](http://yann.lecun.com/exdb/mnist/) dataset.\n",
    "\n",
    "The following source code downloads and loads the images and the corresponding labels into memory."
   ]
  },
  {
   "cell_type": "code",
   "execution_count": 2,
   "metadata": {},
   "outputs": [],
   "source": [
    "import mxnet as mx\n",
    "mnist = mx.test_utils.get_mnist()\n",
    "\n",
    "# Fix the seed\n",
    "mx.random.seed(42)\n",
    "\n",
    "# Set the compute context, GPU is available otherwise CPU\n",
    "#ctx = mx.gpu() if mx.context.num_gpus() else mx.cpu()\n",
    "ctx = mx.gpu()"
   ]
  },
  {
   "cell_type": "markdown",
   "metadata": {},
   "source": [
    "After running the above source code, the entire MNIST dataset should be fully loaded into memory. Note that for large datasets it is not feasible to pre-load the entire dataset first like we did here. What is needed is a mechanism by which we can quickly and efficiently stream data directly from the source. MXNet Data iterators come to the rescue here by providing exactly that. Data iterator is the mechanism by which we feed input data into an MXNet training algorithm and they are very simple to initialize and use and are optimized for speed. During training, we typically process training samples in small batches and over the entire training lifetime will end up processing each training example multiple times. In this tutorial, we'll configure the data iterator to feed examples in batches of 100. Keep in mind that each example is a 28x28 grayscale image and the corresponding label.\n",
    "\n",
    "Image batches are commonly represented by a 4-D array with shape `(batch_size, num_channels, width, height)`. For the MNIST dataset, since the images are grayscale, there is only one color channel. Also, the images are 28x28 pixels, and so each image has width and height equal to 28. Therefore, the shape of input is `(batch_size, 1, 28, 28)`. Another important consideration is the order of input samples. When feeding training examples, it is critical that we don't feed samples with the same label in succession. Doing so can slow down training.\n",
    "Data iterators take care of this by randomly shuffling the inputs. Note that we only need to shuffle the training data. The order does not matter for test data.\n",
    "\n",
    "The following source code initializes the data iterators for the MNIST dataset. Note that we initialize two iterators: one for train data and one for test data."
   ]
  },
  {
   "cell_type": "code",
   "execution_count": 5,
   "metadata": {},
   "outputs": [],
   "source": [
    "batch_size = 100\n",
    "train_iter = mx.io.NDArrayIter(mnist['train_data'], mnist['train_label'], batch_size, shuffle=True)\n",
    "val_iter = mx.io.NDArrayIter(mnist['test_data'], mnist['test_label'], batch_size)"
   ]
  },
  {
   "cell_type": "markdown",
   "metadata": {},
   "source": [
    "## Training\n",
    "We will cover a couple of approaches for performing the hand written digit recognition task. The first approach makes use of a traditional deep neural network architecture called Multilayer Perceptron (MLP). We'll discuss its drawbacks and use that as a motivation to introduce a second more advanced approach called Convolution Neural Network (CNN) that has proven to work very well for image classification tasks.\n",
    "\n",
    "### Multilayer Perceptron\n",
    "\n",
    "The first approach makes use of a [Multilayer Perceptron](https://en.wikipedia.org/wiki/Multilayer_perceptron) to solve this problem. We'll define the MLP using MXNet's symbolic interface. We begin by creating a place holder variable for the input data. When working with an MLP, we need to flatten our 28x28 images into a flat 1-D structure of 784 (28 * 28) raw pixel values. The order of pixel values in the flattened vector does not matter as long as we are being consistent about how we do this across all images."
   ]
  },
  {
   "cell_type": "code",
   "execution_count": 6,
   "metadata": {},
   "outputs": [],
   "source": [
    "data = mx.sym.var('data')\n",
    "# Flatten the data from 4-D shape into 2-D (batch_size, num_channel*width*height)\n",
    "data = mx.sym.flatten(data=data)"
   ]
  },
  {
   "cell_type": "markdown",
   "metadata": {},
   "source": [
    "One might wonder if we are discarding valuable information by flattening. That is indeed true and we'll cover this more when we talk about convolutional neural networks where we preserve the input shape. For now, we'll go ahead and work with flattened images.\n",
    "\n",
    "MLPs contains several fully connected layers. A fully connected layer or FC layer for short, is one where each neuron in the layer is connected to every neuron in its preceding layer. From a linear algebra perspective, an FC layer applies an [affine transform](https://en.wikipedia.org/wiki/Affine_transformation) to the *n x m* input matrix *X* and outputs a matrix *Y* of size *n x k*, where *k* is the number of neurons in the FC layer. *k* is also referred to as the hidden size. The output *Y* is computed according to the equation *Y = X W<sup>T</sup> + b*. The FC layer has two learnable parameters, the *k x m* weight matrix *W* and the *1 x k* bias vector *b*. The summation of bias vector follows the broadcasting rules explained in [`mxnet.sym.broadcast_to()`](https://mxnet.incubator.apache.org/api/python/symbol/symbol.html#mxnet.symbol.broadcast_to). Conceptually, broadcasting replicates row elements of the bias vector to create an *n x k* matrix before summation.\n",
    "\n",
    "\n",
    "In an MLP, the outputs of most FC layers are fed into an activation function, which applies an element-wise non-linearity. This step is critical and it gives neural networks the ability to classify inputs that are not linearly separable. Common choices for activation functions are sigmoid, tanh, and [rectified linear unit](https://en.wikipedia.org/wiki/Rectifier_%28neural_networks%29) (ReLU). In this example, we'll use the ReLU activation function which has several desirable properties and is typically considered a default choice.\n",
    "\n",
    "The following code declares two fully connected layers with 128 and 64 neurons each. Furthermore, these FC layers are sandwiched between ReLU activation layers each one responsible for performing an element-wise ReLU transformation on the FC layer output."
   ]
  },
  {
   "cell_type": "code",
   "execution_count": 7,
   "metadata": {},
   "outputs": [],
   "source": [
    "# The first fully-connected layer and the corresponding activation function\n",
    "fc1  = mx.sym.FullyConnected(data=data, num_hidden=128)\n",
    "act1 = mx.sym.Activation(data=fc1, act_type=\"relu\")\n",
    "\n",
    "# The second fully-connected layer and the corresponding activation function\n",
    "fc2  = mx.sym.FullyConnected(data=act1, num_hidden = 64)\n",
    "act2 = mx.sym.Activation(data=fc2, act_type=\"relu\")"
   ]
  },
  {
   "cell_type": "markdown",
   "metadata": {},
   "source": [
    "The last fully connected layer often has its hidden size equal to the number of output classes in the dataset. The activation function for this layer will be the softmax function. The Softmax layer maps its input to a probability score for each class of output. During the training stage, a loss function computes the [cross entropy](https://en.wikipedia.org/wiki/Cross_entropy) between the probability distribution (softmax output) predicted by the network and the true probability distribution given by the label.\n",
    "\n",
    "The following source code declares the final fully connected layer of size 10. 10 incidentally is the total number of digits. The output from this layer is fed into a `SoftMaxOutput` layer that performs softmax and cross-entropy loss computation in one go. Note that loss computation only happens during training."
   ]
  },
  {
   "cell_type": "code",
   "execution_count": 8,
   "metadata": {},
   "outputs": [],
   "source": [
    "# MNIST has 10 classes\n",
    "fc3  = mx.sym.FullyConnected(data=act2, num_hidden=10)\n",
    "# Softmax with cross entropy loss\n",
    "mlp  = mx.sym.SoftmaxOutput(data=fc3, name='softmax')"
   ]
  },
  {
   "cell_type": "markdown",
   "metadata": {},
   "source": [
    "![png](https://raw.githubusercontent.com/dmlc/web-data/master/mxnet/image/mlp_mnist.png)\n",
    "\n",
    "**Figure 2:** MLP network architecture for MNIST.\n",
    "\n",
    "Now that both the data iterator and neural network are defined, we can commence training. Here we'll employ the `module` feature in MXNet which provides a high-level abstraction for running training and inference on predefined networks. The module API allows the user to specify appropriate parameters that control how the training proceeds.\n",
    "\n",
    "The following source code initializes a module to train the MLP network we defined above. For our training, we will make use of the stochastic gradient descent (SGD) optimizer. In particular, we'll be using mini-batch SGD. Standard SGD processes train data one example at a time. In practice, this is very slow and one can speed up the process by processing examples in small batches. In this case, our batch size will be 100, which is a reasonable choice. Another parameter we select here is the learning rate, which controls the step size the optimizer takes in search of a solution. We'll pick a learning rate of 0.1, again a reasonable choice. Settings such as batch size and learning rate are what are usually referred to as hyper-parameters. What values we give them can have a great impact on training performance. For the purpose of this tutorial, we'll start with some reasonable and safe values. In other tutorials, we'll discuss how one might go about finding a combination of hyper-parameters for optimal model performance.\n",
    "\n",
    "Typically, one runs the training until convergence, which means that we have learned a good set of model parameters (weights + biases) from the train data. For the purpose of this tutorial, we'll run training for 10 epochs and stop. An epoch is one full pass over the entire train data."
   ]
  },
  {
   "cell_type": "code",
   "execution_count": 9,
   "metadata": {},
   "outputs": [
    {
     "name": "stderr",
     "output_type": "stream",
     "text": [
      "INFO:root:Epoch[0] Batch [0-100]\tSpeed: 75418.81 samples/sec\taccuracy=0.110297\n",
      "INFO:root:Epoch[0] Batch [100-200]\tSpeed: 78587.26 samples/sec\taccuracy=0.113600\n",
      "INFO:root:Epoch[0] Batch [200-300]\tSpeed: 78199.13 samples/sec\taccuracy=0.110000\n",
      "INFO:root:Epoch[0] Batch [300-400]\tSpeed: 84798.85 samples/sec\taccuracy=0.110900\n",
      "INFO:root:Epoch[0] Batch [400-500]\tSpeed: 95371.48 samples/sec\taccuracy=0.134500\n",
      "INFO:root:Epoch[0] Train-accuracy=0.133267\n",
      "INFO:root:Epoch[0] Time cost=0.735\n",
      "INFO:root:Epoch[0] Validation-accuracy=0.257600\n",
      "INFO:root:Epoch[1] Batch [0-100]\tSpeed: 93711.13 samples/sec\taccuracy=0.459406\n",
      "INFO:root:Epoch[1] Batch [100-200]\tSpeed: 99012.40 samples/sec\taccuracy=0.695200\n",
      "INFO:root:Epoch[1] Batch [200-300]\tSpeed: 89984.51 samples/sec\taccuracy=0.776800\n",
      "INFO:root:Epoch[1] Batch [300-400]\tSpeed: 97229.01 samples/sec\taccuracy=0.806900\n",
      "INFO:root:Epoch[1] Batch [400-500]\tSpeed: 112017.48 samples/sec\taccuracy=0.827500\n",
      "INFO:root:Epoch[1] Train-accuracy=0.733400\n",
      "INFO:root:Epoch[1] Time cost=0.612\n",
      "INFO:root:Epoch[1] Validation-accuracy=0.860300\n",
      "INFO:root:Epoch[2] Batch [0-100]\tSpeed: 92154.76 samples/sec\taccuracy=0.854158\n",
      "INFO:root:Epoch[2] Batch [100-200]\tSpeed: 107440.19 samples/sec\taccuracy=0.872500\n",
      "INFO:root:Epoch[2] Batch [200-300]\tSpeed: 79882.68 samples/sec\taccuracy=0.891900\n",
      "INFO:root:Epoch[2] Batch [300-400]\tSpeed: 85854.03 samples/sec\taccuracy=0.895100\n",
      "INFO:root:Epoch[2] Batch [400-500]\tSpeed: 90067.02 samples/sec\taccuracy=0.900900\n",
      "INFO:root:Epoch[2] Train-accuracy=0.887183\n",
      "INFO:root:Epoch[2] Time cost=0.671\n",
      "INFO:root:Epoch[2] Validation-accuracy=0.911400\n",
      "INFO:root:Epoch[3] Batch [0-100]\tSpeed: 86243.81 samples/sec\taccuracy=0.916634\n",
      "INFO:root:Epoch[3] Batch [100-200]\tSpeed: 102835.85 samples/sec\taccuracy=0.923300\n",
      "INFO:root:Epoch[3] Batch [200-300]\tSpeed: 95261.44 samples/sec\taccuracy=0.928900\n",
      "INFO:root:Epoch[3] Batch [300-400]\tSpeed: 54837.61 samples/sec\taccuracy=0.934000\n",
      "INFO:root:Epoch[3] Batch [400-500]\tSpeed: 21298.12 samples/sec\taccuracy=0.938100\n",
      "INFO:root:Epoch[3] Train-accuracy=0.929467\n",
      "INFO:root:Epoch[3] Time cost=1.270\n",
      "INFO:root:Epoch[3] Validation-accuracy=0.941400\n",
      "INFO:root:Epoch[4] Batch [0-100]\tSpeed: 91480.22 samples/sec\taccuracy=0.943564\n",
      "INFO:root:Epoch[4] Batch [100-200]\tSpeed: 68515.91 samples/sec\taccuracy=0.941600\n",
      "INFO:root:Epoch[4] Batch [200-300]\tSpeed: 23647.69 samples/sec\taccuracy=0.948600\n",
      "INFO:root:Epoch[4] Batch [300-400]\tSpeed: 72759.29 samples/sec\taccuracy=0.949300\n",
      "INFO:root:Epoch[4] Batch [400-500]\tSpeed: 77882.00 samples/sec\taccuracy=0.946400\n",
      "INFO:root:Epoch[4] Train-accuracy=0.946333\n",
      "INFO:root:Epoch[4] Time cost=1.067\n",
      "INFO:root:Epoch[4] Validation-accuracy=0.953700\n",
      "INFO:root:Epoch[5] Batch [0-100]\tSpeed: 86233.71 samples/sec\taccuracy=0.956733\n",
      "INFO:root:Epoch[5] Batch [100-200]\tSpeed: 91196.38 samples/sec\taccuracy=0.954100\n",
      "INFO:root:Epoch[5] Batch [200-300]\tSpeed: 89161.97 samples/sec\taccuracy=0.959500\n",
      "INFO:root:Epoch[5] Batch [300-400]\tSpeed: 87356.40 samples/sec\taccuracy=0.959800\n",
      "INFO:root:Epoch[5] Batch [400-500]\tSpeed: 84833.50 samples/sec\taccuracy=0.957100\n",
      "INFO:root:Epoch[5] Train-accuracy=0.957400\n",
      "INFO:root:Epoch[5] Time cost=0.703\n",
      "INFO:root:Epoch[5] Validation-accuracy=0.962000\n",
      "INFO:root:Epoch[6] Batch [0-100]\tSpeed: 22997.43 samples/sec\taccuracy=0.961287\n",
      "INFO:root:Epoch[6] Batch [100-200]\tSpeed: 85195.54 samples/sec\taccuracy=0.964200\n",
      "INFO:root:Epoch[6] Batch [200-300]\tSpeed: 82047.40 samples/sec\taccuracy=0.964400\n",
      "INFO:root:Epoch[6] Batch [300-400]\tSpeed: 70179.23 samples/sec\taccuracy=0.961900\n",
      "INFO:root:Epoch[6] Batch [400-500]\tSpeed: 76730.92 samples/sec\taccuracy=0.962300\n",
      "INFO:root:Epoch[6] Train-accuracy=0.963467\n",
      "INFO:root:Epoch[6] Time cost=1.083\n",
      "INFO:root:Epoch[6] Validation-accuracy=0.964600\n",
      "INFO:root:Epoch[7] Batch [0-100]\tSpeed: 23781.35 samples/sec\taccuracy=0.968812\n",
      "INFO:root:Epoch[7] Batch [100-200]\tSpeed: 77252.13 samples/sec\taccuracy=0.969300\n",
      "INFO:root:Epoch[7] Batch [200-300]\tSpeed: 82663.00 samples/sec\taccuracy=0.969400\n",
      "INFO:root:Epoch[7] Batch [300-400]\tSpeed: 83097.65 samples/sec\taccuracy=0.970000\n",
      "INFO:root:Epoch[7] Batch [400-500]\tSpeed: 78922.78 samples/sec\taccuracy=0.970700\n",
      "INFO:root:Epoch[7] Train-accuracy=0.969383\n",
      "INFO:root:Epoch[7] Time cost=1.052\n",
      "INFO:root:Epoch[7] Validation-accuracy=0.963700\n",
      "INFO:root:Epoch[8] Batch [0-100]\tSpeed: 80905.83 samples/sec\taccuracy=0.974752\n",
      "INFO:root:Epoch[8] Batch [100-200]\tSpeed: 83264.43 samples/sec\taccuracy=0.973400\n",
      "INFO:root:Epoch[8] Batch [200-300]\tSpeed: 81978.44 samples/sec\taccuracy=0.971000\n",
      "INFO:root:Epoch[8] Batch [300-400]\tSpeed: 84160.11 samples/sec\taccuracy=0.971600\n",
      "INFO:root:Epoch[8] Batch [400-500]\tSpeed: 79951.20 samples/sec\taccuracy=0.972600\n",
      "INFO:root:Epoch[8] Train-accuracy=0.972750\n",
      "INFO:root:Epoch[8] Time cost=0.750\n",
      "INFO:root:Epoch[8] Validation-accuracy=0.966700\n",
      "INFO:root:Epoch[9] Batch [0-100]\tSpeed: 91213.83 samples/sec\taccuracy=0.976535\n",
      "INFO:root:Epoch[9] Batch [100-200]\tSpeed: 97009.08 samples/sec\taccuracy=0.976100\n",
      "INFO:root:Epoch[9] Batch [200-300]\tSpeed: 91890.27 samples/sec\taccuracy=0.976000\n",
      "INFO:root:Epoch[9] Batch [300-400]\tSpeed: 59885.26 samples/sec\taccuracy=0.974800\n",
      "INFO:root:Epoch[9] Batch [400-500]\tSpeed: 24089.18 samples/sec\taccuracy=0.976000\n",
      "INFO:root:Epoch[9] Train-accuracy=0.976233\n",
      "INFO:root:Epoch[9] Time cost=1.064\n",
      "INFO:root:Epoch[9] Validation-accuracy=0.963700\n"
     ]
    }
   ],
   "source": [
    "import logging\n",
    "logging.getLogger().setLevel(logging.DEBUG)  # logging to stdout\n",
    "# create a trainable module on compute context\n",
    "mlp_model = mx.mod.Module(symbol=mlp, context=ctx)\n",
    "mlp_model.fit(train_iter,  # train data\n",
    "              eval_data=val_iter,  # validation data\n",
    "              optimizer='sgd',  # use SGD to train\n",
    "              optimizer_params={'learning_rate':0.1},  # use fixed learning rate\n",
    "              eval_metric='acc',  # report accuracy during training\n",
    "              batch_end_callback = mx.callback.Speedometer(batch_size, 100), # output progress for each 100 data batches\n",
    "              num_epoch=10)  # train for at most 10 dataset passes"
   ]
  },
  {
   "cell_type": "markdown",
   "metadata": {},
   "source": [
    "### Prediction\n",
    "\n",
    "After the above training completes, we can evaluate the trained model by running predictions on test data. The following source code computes the prediction probability scores for each test image. *prob[i][j]* is the probability that the *i*-th test image contains the *j*-th output class."
   ]
  },
  {
   "cell_type": "code",
   "execution_count": 10,
   "metadata": {},
   "outputs": [],
   "source": [
    "test_iter = mx.io.NDArrayIter(mnist['test_data'], None, batch_size)\n",
    "prob = mlp_model.predict(test_iter)\n",
    "assert prob.shape == (10000, 10)"
   ]
  },
  {
   "cell_type": "markdown",
   "metadata": {},
   "source": [
    "Since the dataset also has labels for all test images, we can compute the accuracy metric as follows:"
   ]
  },
  {
   "cell_type": "code",
   "execution_count": 11,
   "metadata": {},
   "outputs": [
    {
     "name": "stdout",
     "output_type": "stream",
     "text": [
      "EvalMetric: {'accuracy': 0.9637}\n"
     ]
    }
   ],
   "source": [
    "test_iter = mx.io.NDArrayIter(mnist['test_data'], mnist['test_label'], batch_size)\n",
    "# predict accuracy of mlp\n",
    "acc = mx.metric.Accuracy()\n",
    "mlp_model.score(test_iter, acc)\n",
    "print(acc)\n",
    "assert acc.get()[1] > 0.96, \"Achieved accuracy (%f) is lower than expected (0.96)\" % acc.get()[1]"
   ]
  },
  {
   "cell_type": "markdown",
   "metadata": {},
   "source": [
    "If everything went well, we should see an accuracy value that is around 0.96, which means that we are able to accurately predict the digit in 96% of test images. This is a pretty good result. But as we will see in the next part of this tutorial, we can do a lot better than that.\n",
    "\n",
    "### Convolutional Neural Network\n",
    "\n",
    "Earlier, we briefly touched on a drawback of MLP when we said we need to discard the input image's original shape and flatten it as a vector before we can feed it as input to the MLP's first fully connected layer. Turns out this is an important issue because we don't take advantage of the fact that pixels in the image have natural spatial correlation along the horizontal and vertical axes. A convolutional neural network (CNN) aims to address this problem by using a more structured weight representation. Instead of flattening the image and doing a simple matrix-matrix multiplication, it employs one or more convolutional layers that each performs a 2-D convolution on the input image.\n",
    "\n",
    "A single convolution layer consists of one or more filters that each play the role of a feature detector. During training, a CNN learns appropriate representations (parameters) for these filters. Similar to MLP, the output from the convolutional layer is transformed by applying a non-linearity. Besides the convolutional layer, another key aspect of a CNN is the pooling layer. A pooling layer serves to make the CNN translation invariant: a digit remains the same even when it is shifted left/right/up/down by a few pixels. A pooling layer reduces a *n x m* patch into a single value to make the network less sensitive to the spatial location. Pooling layer is always included after each conv (+ activation) layer in the CNN.\n",
    "\n",
    "The following source code defines a convolutional neural network architecture called LeNet. LeNet is a popular network known to work well on digit classification tasks. We will use a slightly different version from the original LeNet implementation, replacing the sigmoid activations with tanh activations for the neurons"
   ]
  },
  {
   "cell_type": "code",
   "execution_count": 12,
   "metadata": {},
   "outputs": [],
   "source": [
    "data = mx.sym.var('data')\n",
    "# first conv layer\n",
    "conv1 = mx.sym.Convolution(data=data, kernel=(5,5), num_filter=20)\n",
    "tanh1 = mx.sym.Activation(data=conv1, act_type=\"tanh\")\n",
    "pool1 = mx.sym.Pooling(data=tanh1, pool_type=\"max\", kernel=(2,2), stride=(2,2))\n",
    "# second conv layer\n",
    "conv2 = mx.sym.Convolution(data=pool1, kernel=(5,5), num_filter=50)\n",
    "tanh2 = mx.sym.Activation(data=conv2, act_type=\"tanh\")\n",
    "pool2 = mx.sym.Pooling(data=tanh2, pool_type=\"max\", kernel=(2,2), stride=(2,2))\n",
    "# first fullc layer\n",
    "flatten = mx.sym.flatten(data=pool2)\n",
    "fc1 = mx.symbol.FullyConnected(data=flatten, num_hidden=500)\n",
    "tanh3 = mx.sym.Activation(data=fc1, act_type=\"tanh\")\n",
    "# second fullc\n",
    "fc2 = mx.sym.FullyConnected(data=tanh3, num_hidden=10)\n",
    "# softmax loss\n",
    "lenet = mx.sym.SoftmaxOutput(data=fc2, name='softmax')"
   ]
  },
  {
   "cell_type": "markdown",
   "metadata": {},
   "source": [
    "![png](https://raw.githubusercontent.com/dmlc/web-data/master/mxnet/image/conv_mnist.png)\n",
    "\n",
    "**Figure 3:** First conv + pooling layer in LeNet.\n",
    "\n",
    "Now we train LeNet with the same hyper-parameters as before. Note that, if a GPU is available, we recommend using it. This greatly speeds up computation given that LeNet is more complex and compute-intensive than the previous multilayer perceptron. To do so, we only need to change `mx.cpu()` to `mx.gpu()` and MXNet takes care of the rest. Just like before, we'll stop training after 10 epochs."
   ]
  },
  {
   "cell_type": "code",
   "execution_count": 13,
   "metadata": {},
   "outputs": [
    {
     "name": "stderr",
     "output_type": "stream",
     "text": [
      "INFO:root:Epoch[0] Batch [0-100]\tSpeed: 35635.00 samples/sec\taccuracy=0.104653\n",
      "INFO:root:Epoch[0] Batch [100-200]\tSpeed: 40506.67 samples/sec\taccuracy=0.110700\n",
      "INFO:root:Epoch[0] Batch [200-300]\tSpeed: 43625.91 samples/sec\taccuracy=0.112000\n",
      "INFO:root:Epoch[0] Batch [300-400]\tSpeed: 21727.64 samples/sec\taccuracy=0.111500\n",
      "INFO:root:Epoch[0] Batch [400-500]\tSpeed: 23821.66 samples/sec\taccuracy=0.114500\n",
      "INFO:root:Epoch[0] Train-accuracy=0.111367\n",
      "INFO:root:Epoch[0] Time cost=1.949\n",
      "INFO:root:Epoch[0] Validation-accuracy=0.113500\n",
      "INFO:root:Epoch[1] Batch [0-100]\tSpeed: 41274.84 samples/sec\taccuracy=0.193564\n",
      "INFO:root:Epoch[1] Batch [100-200]\tSpeed: 44614.61 samples/sec\taccuracy=0.676600\n",
      "INFO:root:Epoch[1] Batch [200-300]\tSpeed: 44709.06 samples/sec\taccuracy=0.876500\n",
      "INFO:root:Epoch[1] Batch [300-400]\tSpeed: 43524.91 samples/sec\taccuracy=0.912500\n",
      "INFO:root:Epoch[1] Batch [400-500]\tSpeed: 43068.82 samples/sec\taccuracy=0.918500\n",
      "INFO:root:Epoch[1] Train-accuracy=0.750983\n",
      "INFO:root:Epoch[1] Time cost=1.399\n",
      "INFO:root:Epoch[1] Validation-accuracy=0.948000\n",
      "INFO:root:Epoch[2] Batch [0-100]\tSpeed: 39116.12 samples/sec\taccuracy=0.950792\n",
      "INFO:root:Epoch[2] Batch [100-200]\tSpeed: 44290.62 samples/sec\taccuracy=0.954400\n",
      "INFO:root:Epoch[2] Batch [200-300]\tSpeed: 43712.84 samples/sec\taccuracy=0.959800\n",
      "INFO:root:Epoch[2] Batch [300-400]\tSpeed: 43978.45 samples/sec\taccuracy=0.962100\n",
      "INFO:root:Epoch[2] Batch [400-500]\tSpeed: 43721.36 samples/sec\taccuracy=0.968600\n",
      "INFO:root:Epoch[2] Train-accuracy=0.960883\n",
      "INFO:root:Epoch[2] Time cost=1.407\n",
      "INFO:root:Epoch[2] Validation-accuracy=0.973400\n",
      "INFO:root:Epoch[3] Batch [0-100]\tSpeed: 38770.67 samples/sec\taccuracy=0.970396\n",
      "INFO:root:Epoch[3] Batch [100-200]\tSpeed: 43254.61 samples/sec\taccuracy=0.973800\n",
      "INFO:root:Epoch[3] Batch [200-300]\tSpeed: 43012.72 samples/sec\taccuracy=0.972500\n",
      "INFO:root:Epoch[3] Batch [300-400]\tSpeed: 42768.21 samples/sec\taccuracy=0.977100\n",
      "INFO:root:Epoch[3] Batch [400-500]\tSpeed: 43313.61 samples/sec\taccuracy=0.974100\n",
      "INFO:root:Epoch[3] Train-accuracy=0.974017\n",
      "INFO:root:Epoch[3] Time cost=1.439\n",
      "INFO:root:Epoch[3] Validation-accuracy=0.980700\n",
      "INFO:root:Epoch[4] Batch [0-100]\tSpeed: 40003.62 samples/sec\taccuracy=0.980396\n",
      "INFO:root:Epoch[4] Batch [100-200]\tSpeed: 42033.50 samples/sec\taccuracy=0.981300\n",
      "INFO:root:Epoch[4] Batch [200-300]\tSpeed: 44192.95 samples/sec\taccuracy=0.977400\n",
      "INFO:root:Epoch[4] Batch [300-400]\tSpeed: 41485.41 samples/sec\taccuracy=0.983700\n",
      "INFO:root:Epoch[4] Batch [400-500]\tSpeed: 43436.25 samples/sec\taccuracy=0.979600\n",
      "INFO:root:Epoch[4] Train-accuracy=0.981067\n",
      "INFO:root:Epoch[4] Time cost=1.431\n",
      "INFO:root:Epoch[4] Validation-accuracy=0.984400\n",
      "INFO:root:Epoch[5] Batch [0-100]\tSpeed: 18673.84 samples/sec\taccuracy=0.984257\n",
      "INFO:root:Epoch[5] Batch [100-200]\tSpeed: 42770.13 samples/sec\taccuracy=0.981500\n",
      "INFO:root:Epoch[5] Batch [200-300]\tSpeed: 34051.45 samples/sec\taccuracy=0.984500\n",
      "INFO:root:Epoch[5] Batch [300-400]\tSpeed: 41050.88 samples/sec\taccuracy=0.986600\n",
      "INFO:root:Epoch[5] Batch [400-500]\tSpeed: 43526.81 samples/sec\taccuracy=0.984500\n",
      "INFO:root:Epoch[5] Train-accuracy=0.984617\n",
      "INFO:root:Epoch[5] Time cost=1.783\n",
      "INFO:root:Epoch[5] Validation-accuracy=0.987000\n",
      "INFO:root:Epoch[6] Batch [0-100]\tSpeed: 39091.55 samples/sec\taccuracy=0.986931\n",
      "INFO:root:Epoch[6] Batch [100-200]\tSpeed: 40786.14 samples/sec\taccuracy=0.987000\n",
      "INFO:root:Epoch[6] Batch [200-300]\tSpeed: 41377.90 samples/sec\taccuracy=0.989100\n",
      "INFO:root:Epoch[6] Batch [300-400]\tSpeed: 41978.26 samples/sec\taccuracy=0.985600\n",
      "INFO:root:Epoch[6] Batch [400-500]\tSpeed: 41604.01 samples/sec\taccuracy=0.986500\n",
      "INFO:root:Epoch[6] Train-accuracy=0.987100\n",
      "INFO:root:Epoch[6] Time cost=1.468\n",
      "INFO:root:Epoch[6] Validation-accuracy=0.987500\n",
      "INFO:root:Epoch[7] Batch [0-100]\tSpeed: 40368.82 samples/sec\taccuracy=0.990000\n",
      "INFO:root:Epoch[7] Batch [100-200]\tSpeed: 40606.87 samples/sec\taccuracy=0.987700\n",
      "INFO:root:Epoch[7] Batch [200-300]\tSpeed: 42033.07 samples/sec\taccuracy=0.989900\n",
      "INFO:root:Epoch[7] Batch [300-400]\tSpeed: 42901.24 samples/sec\taccuracy=0.988000\n",
      "INFO:root:Epoch[7] Batch [400-500]\tSpeed: 41815.04 samples/sec\taccuracy=0.989300\n",
      "INFO:root:Epoch[7] Train-accuracy=0.989050\n",
      "INFO:root:Epoch[7] Time cost=1.450\n",
      "INFO:root:Epoch[7] Validation-accuracy=0.988300\n",
      "INFO:root:Epoch[8] Batch [0-100]\tSpeed: 37966.16 samples/sec\taccuracy=0.990891\n",
      "INFO:root:Epoch[8] Batch [100-200]\tSpeed: 44102.20 samples/sec\taccuracy=0.989700\n",
      "INFO:root:Epoch[8] Batch [200-300]\tSpeed: 44249.83 samples/sec\taccuracy=0.989800\n",
      "INFO:root:Epoch[8] Batch [300-400]\tSpeed: 43870.77 samples/sec\taccuracy=0.991000\n",
      "INFO:root:Epoch[8] Batch [400-500]\tSpeed: 41367.86 samples/sec\taccuracy=0.990700\n",
      "INFO:root:Epoch[8] Train-accuracy=0.990283\n",
      "INFO:root:Epoch[8] Time cost=1.449\n",
      "INFO:root:Epoch[8] Validation-accuracy=0.988900\n",
      "INFO:root:Epoch[9] Batch [0-100]\tSpeed: 40993.27 samples/sec\taccuracy=0.991584\n",
      "INFO:root:Epoch[9] Batch [100-200]\tSpeed: 43400.92 samples/sec\taccuracy=0.992500\n",
      "INFO:root:Epoch[9] Batch [200-300]\tSpeed: 43722.14 samples/sec\taccuracy=0.990100\n",
      "INFO:root:Epoch[9] Batch [300-400]\tSpeed: 42000.71 samples/sec\taccuracy=0.990200\n",
      "INFO:root:Epoch[9] Batch [400-500]\tSpeed: 41511.65 samples/sec\taccuracy=0.990600\n",
      "INFO:root:Epoch[9] Train-accuracy=0.991250\n",
      "INFO:root:Epoch[9] Time cost=1.486\n",
      "INFO:root:Epoch[9] Validation-accuracy=0.988100\n"
     ]
    },
    {
     "name": "stdout",
     "output_type": "stream",
     "text": [
      "CPU times: user 26.8 s, sys: 6 s, total: 32.8 s\n",
      "Wall time: 19.9 s\n"
     ]
    }
   ],
   "source": [
    "lenet_model = mx.mod.Module(symbol=lenet, context=ctx)\n",
    "# train with the same\n",
    "%time lenet_model.fit(train_iter, eval_data=val_iter, optimizer='sgd', optimizer_params={'learning_rate':0.1}, eval_metric='acc', batch_end_callback = mx.callback.Speedometer(batch_size, 100), num_epoch=10)"
   ]
  },
  {
   "cell_type": "markdown",
   "metadata": {},
   "source": [
    "### Prediction\n",
    "\n",
    "Finally, we'll use the trained LeNet model to generate predictions for the test data."
   ]
  },
  {
   "cell_type": "code",
   "execution_count": 14,
   "metadata": {},
   "outputs": [
    {
     "name": "stdout",
     "output_type": "stream",
     "text": [
      "EvalMetric: {'accuracy': 0.9881}\n"
     ]
    }
   ],
   "source": [
    "test_iter = mx.io.NDArrayIter(mnist['test_data'], None, batch_size)\n",
    "prob = lenet_model.predict(test_iter)\n",
    "test_iter = mx.io.NDArrayIter(mnist['test_data'], mnist['test_label'], batch_size)\n",
    "# predict accuracy for lenet\n",
    "acc = mx.metric.Accuracy()\n",
    "lenet_model.score(test_iter, acc)\n",
    "print(acc)\n",
    "assert acc.get()[1] > 0.98, \"Achieved accuracy (%f) is lower than expected (0.98)\" % acc.get()[1]"
   ]
  },
  {
   "cell_type": "markdown",
   "metadata": {},
   "source": [
    "If all went well, we should see a higher accuracy metric for predictions made using LeNet. With CNN we should be able to correctly predict around 98% of all test images.\n",
    "\n",
    "## Summary\n",
    "\n",
    "In this tutorial, we have learned how to use MXNet to solve a standard computer vision problem: classifying images of hand written digits. You have seen how to quickly and easily build, train and evaluate models such as MLP and CNN with MXNet.\n",
    "\n",
    "\n",
    "<!-- INSERT SOURCE DOWNLOAD BUTTONS -->\n",
    "\n"
   ]
  }
 ],
 "metadata": {
  "display_name": "",
  "kernelspec": {
   "display_name": "Python 3 System",
   "language": "python",
   "name": "python3"
  },
  "language_info": {
   "codemirror_mode": {
    "name": "ipython",
    "version": 3
   },
   "file_extension": ".py",
   "mimetype": "text/x-python",
   "name": "python",
   "nbconvert_exporter": "python",
   "pygments_lexer": "ipython3",
   "version": "3.7.4"
  },
  "name": ""
 },
 "nbformat": 4,
 "nbformat_minor": 4
}
