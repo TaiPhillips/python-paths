{
 "cells": [
  {
   "cell_type": "code",
   "execution_count": 8,
   "metadata": {},
   "outputs": [],
   "source": [
    "import torch\n",
    "import pycuda.driver as cuda\n",
    "cuda.init()"
   ]
  },
  {
   "cell_type": "code",
   "execution_count": 9,
   "metadata": {},
   "outputs": [
    {
     "name": "stdout",
     "output_type": "stream",
     "text": [
      "True\n"
     ]
    }
   ],
   "source": [
    "print(torch.cuda.is_available())"
   ]
  },
  {
   "cell_type": "code",
   "execution_count": 10,
   "metadata": {},
   "outputs": [
    {
     "data": {
      "text/plain": [
       "0"
      ]
     },
     "execution_count": 10,
     "metadata": {},
     "output_type": "execute_result"
    }
   ],
   "source": [
    "torch.cuda.current_device()"
   ]
  },
  {
   "cell_type": "code",
   "execution_count": 11,
   "metadata": {},
   "outputs": [
    {
     "data": {
      "text/plain": [
       "'GeForce GTX 1060'"
      ]
     },
     "execution_count": 11,
     "metadata": {},
     "output_type": "execute_result"
    }
   ],
   "source": [
    "cuda.Device(0).name()"
   ]
  },
  {
   "cell_type": "code",
   "execution_count": 12,
   "metadata": {},
   "outputs": [
    {
     "data": {
      "text/plain": [
       "1 device(s) found:\n",
       "    1) GeForce GTX 1060 (Id: 0)\n",
       "          Memory: 6.38 GB"
      ]
     },
     "execution_count": 12,
     "metadata": {},
     "output_type": "execute_result"
    }
   ],
   "source": [
    "import torch\n",
    "\n",
    "import pycuda.driver as cuda\n",
    "cuda.init()\n",
    "\n",
    "class aboutCudaDevices():\n",
    "    def __init__(self):\n",
    "        pass\n",
    "    \n",
    "    def num_devices(self):\n",
    "        \"\"\"Return number of devices connected.\"\"\"\n",
    "        return cuda.Device.count()\n",
    "    \n",
    "    def devices(self):\n",
    "        \"\"\"Get info on all devices connected.\"\"\"\n",
    "        num = cuda.Device.count()\n",
    "        print(\"%d device(s) found:\"%num)\n",
    "        for i in range(num):\n",
    "            print(cuda.Device(i).name(), \"(Id: %d)\"%i)\n",
    "            \n",
    "    def mem_info(self):\n",
    "        \"\"\"Get available and total memory of all devices.\"\"\"\n",
    "        available, total = cuda.mem_get_info()\n",
    "        print(\"Available: %.2f GB\\nTotal:     %.2f GB\"%(available/1e9, total/1e9))\n",
    "        \n",
    "    def attributes(self, device_id=0):\n",
    "        \"\"\"Get attributes of device with device Id = device_id\"\"\"\n",
    "        return cuda.Device(device_id).get_attributes()\n",
    "    \n",
    "    def __repr__(self):\n",
    "        \"\"\"Class representation as number of devices connected and about them.\"\"\"\n",
    "        num = cuda.Device.count()\n",
    "        string = \"\"\n",
    "        string += (\"%d device(s) found:\\n\"%num)\n",
    "        for i in range(num):\n",
    "            string += ( \"    %d) %s (Id: %d)\\n\"%((i+1),cuda.Device(i).name(),i))\n",
    "            string += (\"          Memory: %.2f GB\\n\"%(cuda.Device(i).total_memory()/1e9))\n",
    "        return string\n",
    "\n",
    "\n",
    "aboutCudaDevices()"
   ]
  },
  {
   "cell_type": "code",
   "execution_count": null,
   "metadata": {},
   "outputs": [],
   "source": []
  }
 ],
 "metadata": {
  "kernelspec": {
   "display_name": "Python 3 Conda",
   "language": "python",
   "name": "python3conda"
  },
  "language_info": {
   "codemirror_mode": {
    "name": "ipython",
    "version": 3
   },
   "file_extension": ".py",
   "mimetype": "text/x-python",
   "name": "python",
   "nbconvert_exporter": "python",
   "pygments_lexer": "ipython3",
   "version": "3.7.4"
  }
 },
 "nbformat": 4,
 "nbformat_minor": 4
}
