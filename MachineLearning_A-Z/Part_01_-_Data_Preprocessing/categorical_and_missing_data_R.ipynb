{
 "cells": [
  {
   "cell_type": "code",
   "execution_count": 1,
   "metadata": {},
   "outputs": [],
   "source": [
    "# Data Preprocessing\n",
    "\n",
    "# Importing the dataset\n",
    "dataset = read.csv('Data.csv')\n",
    "\n",
    "# Taking care of missing data\n",
    "dataset$Age = ifelse(is.na(dataset$Age),\n",
    "                     ave(dataset$Age, FUN = function(x) mean(x, na.rm = TRUE)),\n",
    "                     dataset$Age)\n",
    "dataset$Salary = ifelse(is.na(dataset$Salary),\n",
    "                        ave(dataset$Salary, FUN = function(x) mean(x, na.rm = TRUE)),\n",
    "                        dataset$Salary)"
   ]
  },
  {
   "cell_type": "code",
   "execution_count": 2,
   "metadata": {},
   "outputs": [
    {
     "data": {
      "text/html": [
       "<table>\n",
       "<caption>A data.frame: 6 × 4</caption>\n",
       "<thead>\n",
       "\t<tr><th scope=col>Country</th><th scope=col>Age</th><th scope=col>Salary</th><th scope=col>Purchased</th></tr>\n",
       "\t<tr><th scope=col>&lt;fct&gt;</th><th scope=col>&lt;dbl&gt;</th><th scope=col>&lt;dbl&gt;</th><th scope=col>&lt;fct&gt;</th></tr>\n",
       "</thead>\n",
       "<tbody>\n",
       "\t<tr><td>France </td><td>44</td><td>72000.00</td><td>No </td></tr>\n",
       "\t<tr><td>Spain  </td><td>27</td><td>48000.00</td><td>Yes</td></tr>\n",
       "\t<tr><td>Germany</td><td>30</td><td>54000.00</td><td>No </td></tr>\n",
       "\t<tr><td>Spain  </td><td>38</td><td>61000.00</td><td>No </td></tr>\n",
       "\t<tr><td>Germany</td><td>40</td><td>63777.78</td><td>Yes</td></tr>\n",
       "\t<tr><td>France </td><td>35</td><td>58000.00</td><td>Yes</td></tr>\n",
       "</tbody>\n",
       "</table>\n"
      ],
      "text/latex": [
       "A data.frame: 6 × 4\n",
       "\\begin{tabular}{r|llll}\n",
       " Country & Age & Salary & Purchased\\\\\n",
       " <fct> & <dbl> & <dbl> & <fct>\\\\\n",
       "\\hline\n",
       "\t France  & 44 & 72000.00 & No \\\\\n",
       "\t Spain   & 27 & 48000.00 & Yes\\\\\n",
       "\t Germany & 30 & 54000.00 & No \\\\\n",
       "\t Spain   & 38 & 61000.00 & No \\\\\n",
       "\t Germany & 40 & 63777.78 & Yes\\\\\n",
       "\t France  & 35 & 58000.00 & Yes\\\\\n",
       "\\end{tabular}\n"
      ],
      "text/markdown": [
       "\n",
       "A data.frame: 6 × 4\n",
       "\n",
       "| Country &lt;fct&gt; | Age &lt;dbl&gt; | Salary &lt;dbl&gt; | Purchased &lt;fct&gt; |\n",
       "|---|---|---|---|\n",
       "| France  | 44 | 72000.00 | No  |\n",
       "| Spain   | 27 | 48000.00 | Yes |\n",
       "| Germany | 30 | 54000.00 | No  |\n",
       "| Spain   | 38 | 61000.00 | No  |\n",
       "| Germany | 40 | 63777.78 | Yes |\n",
       "| France  | 35 | 58000.00 | Yes |\n",
       "\n"
      ],
      "text/plain": [
       "  Country Age Salary   Purchased\n",
       "1 France  44  72000.00 No       \n",
       "2 Spain   27  48000.00 Yes      \n",
       "3 Germany 30  54000.00 No       \n",
       "4 Spain   38  61000.00 No       \n",
       "5 Germany 40  63777.78 Yes      \n",
       "6 France  35  58000.00 Yes      "
      ]
     },
     "metadata": {},
     "output_type": "display_data"
    }
   ],
   "source": [
    "head(dataset)"
   ]
  },
  {
   "cell_type": "code",
   "execution_count": 3,
   "metadata": {},
   "outputs": [],
   "source": [
    "dataset$Country = factor(dataset$Country,\n",
    "                         levels = c('France','Spain','Germany'),\n",
    "                         labels = c(1,2,3))\n",
    "dataset$Purchased = factor(dataset$Purchased,\n",
    "                         levels = c('No','Yes'),\n",
    "                         labels = c(0,1))"
   ]
  },
  {
   "cell_type": "code",
   "execution_count": 4,
   "metadata": {},
   "outputs": [
    {
     "data": {
      "text/html": [
       "<table>\n",
       "<caption>A data.frame: 6 × 4</caption>\n",
       "<thead>\n",
       "\t<tr><th scope=col>Country</th><th scope=col>Age</th><th scope=col>Salary</th><th scope=col>Purchased</th></tr>\n",
       "\t<tr><th scope=col>&lt;fct&gt;</th><th scope=col>&lt;dbl&gt;</th><th scope=col>&lt;dbl&gt;</th><th scope=col>&lt;fct&gt;</th></tr>\n",
       "</thead>\n",
       "<tbody>\n",
       "\t<tr><td>1</td><td>44</td><td>72000.00</td><td>0</td></tr>\n",
       "\t<tr><td>2</td><td>27</td><td>48000.00</td><td>1</td></tr>\n",
       "\t<tr><td>3</td><td>30</td><td>54000.00</td><td>0</td></tr>\n",
       "\t<tr><td>2</td><td>38</td><td>61000.00</td><td>0</td></tr>\n",
       "\t<tr><td>3</td><td>40</td><td>63777.78</td><td>1</td></tr>\n",
       "\t<tr><td>1</td><td>35</td><td>58000.00</td><td>1</td></tr>\n",
       "</tbody>\n",
       "</table>\n"
      ],
      "text/latex": [
       "A data.frame: 6 × 4\n",
       "\\begin{tabular}{r|llll}\n",
       " Country & Age & Salary & Purchased\\\\\n",
       " <fct> & <dbl> & <dbl> & <fct>\\\\\n",
       "\\hline\n",
       "\t 1 & 44 & 72000.00 & 0\\\\\n",
       "\t 2 & 27 & 48000.00 & 1\\\\\n",
       "\t 3 & 30 & 54000.00 & 0\\\\\n",
       "\t 2 & 38 & 61000.00 & 0\\\\\n",
       "\t 3 & 40 & 63777.78 & 1\\\\\n",
       "\t 1 & 35 & 58000.00 & 1\\\\\n",
       "\\end{tabular}\n"
      ],
      "text/markdown": [
       "\n",
       "A data.frame: 6 × 4\n",
       "\n",
       "| Country &lt;fct&gt; | Age &lt;dbl&gt; | Salary &lt;dbl&gt; | Purchased &lt;fct&gt; |\n",
       "|---|---|---|---|\n",
       "| 1 | 44 | 72000.00 | 0 |\n",
       "| 2 | 27 | 48000.00 | 1 |\n",
       "| 3 | 30 | 54000.00 | 0 |\n",
       "| 2 | 38 | 61000.00 | 0 |\n",
       "| 3 | 40 | 63777.78 | 1 |\n",
       "| 1 | 35 | 58000.00 | 1 |\n",
       "\n"
      ],
      "text/plain": [
       "  Country Age Salary   Purchased\n",
       "1 1       44  72000.00 0        \n",
       "2 2       27  48000.00 1        \n",
       "3 3       30  54000.00 0        \n",
       "4 2       38  61000.00 0        \n",
       "5 3       40  63777.78 1        \n",
       "6 1       35  58000.00 1        "
      ]
     },
     "metadata": {},
     "output_type": "display_data"
    }
   ],
   "source": [
    "head(dataset)"
   ]
  },
  {
   "cell_type": "code",
   "execution_count": null,
   "metadata": {},
   "outputs": [],
   "source": []
  }
 ],
 "metadata": {
  "kernelspec": {
   "display_name": "R 3.6.1",
   "language": "R",
   "name": "ir"
  },
  "language_info": {
   "codemirror_mode": "r",
   "file_extension": ".r",
   "mimetype": "text/x-r-source",
   "name": "R",
   "pygments_lexer": "r",
   "version": "3.6.1"
  }
 },
 "nbformat": 4,
 "nbformat_minor": 4
}
