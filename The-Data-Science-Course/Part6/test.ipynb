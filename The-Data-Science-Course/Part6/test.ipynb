{
 "cells": [
  {
   "cell_type": "markdown",
   "metadata": {},
   "source": [
    "## Latex Shit\n",
    "theta: $\\theta$ <br/>\n",
    "alfa:  $\\alpha$ <br/>\n",
    "gamma: $\\gamma$ <br/>\n",
    "omicron: $\\omicron$ <br/>\n",
    "epsilon: $\\epsilon$ <br/>\n",
    "pi: $\\pi$ Pi: $\\Pi$ <br/>\n",
    "mu: $\\mu$\n",
    "\n",
    "\\begin{equation} \\label{eq:2}\n",
    "\t2CO + O_2 \\rightarrow 2CO_2\n",
    "\\end{equation}\n",
    "\\begin{equation} \\label{eq:hflux}\n",
    "\tq = h\\Delta T_{ln}, \\qquad \\Delta T_{ln} = \\frac{(T_1 - T_s) - (T_2 - T_s)}{\\ln (T_1 - T_s) - \\ln (T_2 - T_s)}.\n",
    "\\end{equation}"
   ]
  },
  {
   "cell_type": "code",
   "execution_count": 17,
   "metadata": {},
   "outputs": [],
   "source": [
    "import numpy as np"
   ]
  },
  {
   "cell_type": "code",
   "execution_count": 40,
   "metadata": {},
   "outputs": [
    {
     "name": "stdout",
     "output_type": "stream",
     "text": [
      "[[1 2 3]]\n",
      "----------\n",
      "[[4]\n",
      " [5]\n",
      " [1]]\n"
     ]
    }
   ],
   "source": [
    "v1 = np.array([[1,2,3]])\n",
    "v2 = np.array([[4],[5],[1]])\n",
    "print(v1)\n",
    "print(\"----------\")\n",
    "print(v2)"
   ]
  },
  {
   "cell_type": "code",
   "execution_count": 41,
   "metadata": {},
   "outputs": [
    {
     "name": "stdout",
     "output_type": "stream",
     "text": [
      "v1:s shape is:\n",
      "(1, 3)\n",
      "----------\n",
      "v2:s shape is:\n",
      "(3, 1)\n"
     ]
    }
   ],
   "source": [
    "print(\"v1:s shape is:\")\n",
    "print(v1.shape)\n",
    "print(\"----------\")\n",
    "print(\"v2:s shape is:\")\n",
    "print(v2.shape)"
   ]
  },
  {
   "cell_type": "code",
   "execution_count": 42,
   "metadata": {},
   "outputs": [
    {
     "name": "stdout",
     "output_type": "stream",
     "text": [
      "multiplying a 1x3-matrix with a 3x1-matrix\n",
      "thus (1x3)*(3x1) yields (1x1), a scalar\n",
      "[[17]]\n"
     ]
    }
   ],
   "source": [
    "print(\"multiplying a 1x3-matrix with a 3x1-matrix\")\n",
    "print(\"thus (1x3)*(3x1) yields (1x1), a scalar\")\n",
    "dot1 = np.dot(v1,v2)\n",
    "print(dot1)"
   ]
  },
  {
   "cell_type": "code",
   "execution_count": 43,
   "metadata": {},
   "outputs": [
    {
     "name": "stdout",
     "output_type": "stream",
     "text": [
      "multiplying a 3x1-matrix with a 1x3-matrix\n",
      "thus (3x1)*(1x3) = (3x3), a 3x3-matrix\n",
      "[[ 4  8 12]\n",
      " [ 5 10 15]\n",
      " [ 1  2  3]]\n"
     ]
    }
   ],
   "source": [
    "print(\"multiplying a 3x1-matrix with a 1x3-matrix\")\n",
    "print(\"thus (3x1)*(1x3) = (3x3), a 3x3-matrix\")\n",
    "dot2 = np.dot(v2,v1)\n",
    "print(dot2)"
   ]
  },
  {
   "cell_type": "code",
   "execution_count": null,
   "metadata": {},
   "outputs": [],
   "source": []
  }
 ],
 "metadata": {
  "kernelspec": {
   "display_name": "Python 3",
   "language": "python",
   "name": "python3"
  },
  "language_info": {
   "codemirror_mode": {
    "name": "ipython",
    "version": 3
   },
   "file_extension": ".py",
   "mimetype": "text/x-python",
   "name": "python",
   "nbconvert_exporter": "python",
   "pygments_lexer": "ipython3",
   "version": "3.7.3"
  }
 },
 "nbformat": 4,
 "nbformat_minor": 2
}
